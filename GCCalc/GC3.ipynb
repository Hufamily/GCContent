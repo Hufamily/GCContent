{
 "cells": [
  {
   "cell_type": "code",
   "execution_count": null,
   "id": "1690fd01-6e2b-4db1-a06f-b77f2da698df",
   "metadata": {},
   "outputs": [],
   "source": [
    "# From https://www.phind.com/search?cache=oxjhksj83gvyo4mhm1vvwzrv\n",
    "\n",
    "import pandas as pd\n",
    "\n",
    "# Assuming genome_seq is a dictionary with chromosome names as keys and sequences as values\n",
    "genome_seq = {\n",
    "    'chr1': 'ACTG...',\n",
    "    # Add other chromosomes here\n",
    "}\n",
    "\n",
    "# Load GTF file\n",
    "gtf_file = 'path_to_your_gtf_file.gtf'\n",
    "gtf_df = pd.read_csv(gtf_file, sep='\\t', comment='#', header=None, names=['seqname', 'source', 'feature', 'start', 'end', 'score', 'strand', 'frame', 'attribute'])\n",
    "\n",
    "# Filter for CDS features\n",
    "cds_df = gtf_df[gtf_df['feature'] == 'CDS']\n",
    "\n",
    "# Function to calculate GC content for third codon positions\n",
    "def calculate_gc3(sequence):\n",
    "    # Extract every third base starting from the first position\n",
    "    third_bases = sequence[::3]\n",
    "    \n",
    "    gc_count = third_bases.upper().count('G') + third_bases.upper().count('C')\n",
    "    total_bases = len(third_bases)\n",
    "    \n",
    "    if total_bases > 0:\n",
    "        gc3 = gc_count / total_bases\n",
    "    else:\n",
    "        gc3 = 0  # Avoid division by zero\n",
    "    \n",
    "    return gc3\n",
    "\n",
    "# Calculate GC3 values for each CDS\n",
    "cds_df['gc3'] = cds_df.apply(lambda row: calculate_gc3(genome_seq[row['seqname']][row['start']-1:row['end']]), axis=1)\n",
    "\n",
    "# Display results\n",
    "print(cds_df[['seqname', 'start', 'end', 'gc3']])"
   ]
  }
 ],
 "metadata": {
  "kernelspec": {
   "display_name": "Python 3 (ipykernel)",
   "language": "python",
   "name": "python3"
  },
  "language_info": {
   "codemirror_mode": {
    "name": "ipython",
    "version": 3
   },
   "file_extension": ".py",
   "mimetype": "text/x-python",
   "name": "python",
   "nbconvert_exporter": "python",
   "pygments_lexer": "ipython3",
   "version": "3.12.2"
  }
 },
 "nbformat": 4,
 "nbformat_minor": 5
}
